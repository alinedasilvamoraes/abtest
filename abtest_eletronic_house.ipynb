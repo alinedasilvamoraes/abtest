{
 "cells": [
  {
   "cell_type": "markdown",
   "id": "9c2f7d9c",
   "metadata": {},
   "source": [
    "# Planning"
   ]
  },
  {
   "cell_type": "markdown",
   "id": "e183ce3f",
   "metadata": {},
   "source": [
    "1. Context:\n",
    "    Electronic House is an e-commerce of computer products for houses and offices.\n",
    "\n",
    "    The Design team developed a new way to complete a purchase using a credit card, without having to fill in all the card information manually.\n",
    "    \n",
    "    \n",
    "2. Business problem:\n",
    "    An experiment was done with the old page (manual filling - Group A) and the new page (automatic filling - Group B). After a few months of the experiment, we have to check which payment type is more efficient.  \n"
   ]
  },
  {
   "cell_type": "markdown",
   "id": "833f36c8",
   "metadata": {},
   "source": [
    "# Experiment Design"
   ]
  },
  {
   "cell_type": "markdown",
   "id": "83a2285f",
   "metadata": {},
   "source": [
    "1. Goal: Define if automatic filling bring more GMV (Gross Merchandise Value) than manual filling\n",
    "\n",
    "    Group A: manual filling <br>\n",
    "    Group B: automatic filling<br><br> \n",
    "    \n",
    "2. Experiment hypothesis:\n",
    "\n",
    "    H0: avg GMV A = avg GMV B <br>\n",
    "    H1: avg GMV A <> avg GMV B"
   ]
  },
  {
   "cell_type": "markdown",
   "id": "5b65d4a4",
   "metadata": {},
   "source": [
    "# 0.0 Imports"
   ]
  },
  {
   "cell_type": "code",
   "execution_count": 59,
   "id": "f9764067",
   "metadata": {},
   "outputs": [],
   "source": [
    "import warnings\n",
    "import pandas            as pd\n",
    "import numpy             as np\n",
    "import seaborn           as sns\n",
    "import matplotlib.pyplot as plt\n",
    "import pingouin          as pg\n",
    "\n",
    "from scipy.stats       import shapiro\n",
    "from scipy.stats       import mannwhitneyu\n",
    "from matplotlib.pyplot import figure\n",
    "from statsmodels.stats import api as sms\n",
    "from scipy             import stats"
   ]
  },
  {
   "cell_type": "code",
   "execution_count": 2,
   "id": "7b38f49f",
   "metadata": {},
   "outputs": [],
   "source": [
    "warnings.filterwarnings(\"ignore\")"
   ]
  },
  {
   "cell_type": "markdown",
   "id": "1e1f6637",
   "metadata": {},
   "source": [
    "# 0.1 Loading Data"
   ]
  },
  {
   "cell_type": "code",
   "execution_count": 3,
   "id": "6af326d5",
   "metadata": {},
   "outputs": [
    {
     "data": {
      "text/html": [
       "<div>\n",
       "<style scoped>\n",
       "    .dataframe tbody tr th:only-of-type {\n",
       "        vertical-align: middle;\n",
       "    }\n",
       "\n",
       "    .dataframe tbody tr th {\n",
       "        vertical-align: top;\n",
       "    }\n",
       "\n",
       "    .dataframe thead th {\n",
       "        text-align: right;\n",
       "    }\n",
       "</style>\n",
       "<table border=\"1\" class=\"dataframe\">\n",
       "  <thead>\n",
       "    <tr style=\"text-align: right;\">\n",
       "      <th></th>\n",
       "      <th>uid</th>\n",
       "      <th>country</th>\n",
       "      <th>gender</th>\n",
       "      <th>spent</th>\n",
       "      <th>purchases</th>\n",
       "      <th>date</th>\n",
       "      <th>group</th>\n",
       "      <th>device</th>\n",
       "    </tr>\n",
       "  </thead>\n",
       "  <tbody>\n",
       "    <tr>\n",
       "      <th>0</th>\n",
       "      <td>11115722</td>\n",
       "      <td>MEX</td>\n",
       "      <td>F</td>\n",
       "      <td>1595</td>\n",
       "      <td>5</td>\n",
       "      <td>2016-03-08</td>\n",
       "      <td>GRP B</td>\n",
       "      <td>I</td>\n",
       "    </tr>\n",
       "    <tr>\n",
       "      <th>1</th>\n",
       "      <td>11122053</td>\n",
       "      <td>USA</td>\n",
       "      <td>M</td>\n",
       "      <td>498</td>\n",
       "      <td>2</td>\n",
       "      <td>2017-07-14</td>\n",
       "      <td>GRP B</td>\n",
       "      <td>I</td>\n",
       "    </tr>\n",
       "  </tbody>\n",
       "</table>\n",
       "</div>"
      ],
      "text/plain": [
       "        uid country gender  spent  purchases        date  group device\n",
       "0  11115722     MEX      F   1595          5  2016-03-08  GRP B      I\n",
       "1  11122053     USA      M    498          2  2017-07-14  GRP B      I"
      ]
     },
     "execution_count": 3,
     "metadata": {},
     "output_type": "execute_result"
    }
   ],
   "source": [
    "df_raw = pd.read_csv('ab_testing.csv')\n",
    "df_raw.head(2)"
   ]
  },
  {
   "cell_type": "code",
   "execution_count": 4,
   "id": "f4c01c71",
   "metadata": {},
   "outputs": [
    {
     "name": "stdout",
     "output_type": "stream",
     "text": [
      "<class 'pandas.core.frame.DataFrame'>\n",
      "RangeIndex: 45883 entries, 0 to 45882\n",
      "Data columns (total 8 columns):\n",
      " #   Column     Non-Null Count  Dtype \n",
      "---  ------     --------------  ----- \n",
      " 0   uid        45883 non-null  int64 \n",
      " 1   country    45883 non-null  object\n",
      " 2   gender     45883 non-null  object\n",
      " 3   spent      45883 non-null  int64 \n",
      " 4   purchases  45883 non-null  int64 \n",
      " 5   date       45883 non-null  object\n",
      " 6   group      45883 non-null  object\n",
      " 7   device     45883 non-null  object\n",
      "dtypes: int64(3), object(5)\n",
      "memory usage: 2.8+ MB\n"
     ]
    }
   ],
   "source": [
    "# Data types\n",
    "\n",
    "df = df_raw.copy()\n",
    "df.info()"
   ]
  },
  {
   "cell_type": "code",
   "execution_count": 5,
   "id": "9b3651d4",
   "metadata": {},
   "outputs": [],
   "source": [
    "# Change data types\n",
    "\n",
    "df['date'] = pd.to_datetime(df['date'])"
   ]
  },
  {
   "cell_type": "code",
   "execution_count": 6,
   "id": "fb41ce7f",
   "metadata": {},
   "outputs": [
    {
     "data": {
      "text/plain": [
       "uid          0\n",
       "country      0\n",
       "gender       0\n",
       "spent        0\n",
       "purchases    0\n",
       "date         0\n",
       "group        0\n",
       "device       0\n",
       "dtype: int64"
      ]
     },
     "execution_count": 6,
     "metadata": {},
     "output_type": "execute_result"
    }
   ],
   "source": [
    "# Check NA\n",
    "\n",
    "df.isna().sum()"
   ]
  },
  {
   "cell_type": "code",
   "execution_count": 7,
   "id": "c866a2ee",
   "metadata": {},
   "outputs": [
    {
     "name": "stdout",
     "output_type": "stream",
     "text": [
      "Number of rows: 45883\n",
      "Number of unique customers: 45883\n"
     ]
    }
   ],
   "source": [
    "# Check duplicates values - uid\n",
    "\n",
    "total_rows = df.shape[0]\n",
    "total_uid = df['uid'].drop_duplicates().shape[0]\n",
    "\n",
    "print(f'Number of rows: {total_rows}\\nNumber of unique customers: {total_uid}')"
   ]
  },
  {
   "cell_type": "markdown",
   "id": "259dc5b8",
   "metadata": {},
   "source": [
    "# 1.0 Descriptive analysis"
   ]
  },
  {
   "cell_type": "code",
   "execution_count": 8,
   "id": "7ba00745",
   "metadata": {},
   "outputs": [],
   "source": [
    "# Group A and group B must be equally distributed across contry, gender and device to ensure samples are not unbalaced\n",
    "\n",
    "df_a = df[df['group'] == 'GRP A']\n",
    "df_b = df[df['group'] == 'GRP B']"
   ]
  },
  {
   "cell_type": "code",
   "execution_count": 9,
   "id": "b21f6379",
   "metadata": {},
   "outputs": [
    {
     "data": {
      "image/png": "[encoded data removed]",
      "text/plain": [
       "<Figure size 432x288 with 1 Axes>"
      ]
     },
     "metadata": {
      "needs_background": "light"
     },
     "output_type": "display_data"
    }
   ],
   "source": [
    "# Country\n",
    "\n",
    "sns.countplot(df['country'], hue=df['group']);"
   ]
  },
  {
   "cell_type": "code",
   "execution_count": 10,
   "id": "beb6d2da",
   "metadata": {},
   "outputs": [
    {
     "data": {
      "image/png": "[encoded data removed]",
      "text/plain": [
       "<Figure size 1080x360 with 2 Axes>"
      ]
     },
     "metadata": {
      "needs_background": "light"
     },
     "output_type": "display_data"
    }
   ],
   "source": [
    "fig, ax = plt.subplots(1, 2, figsize=(15, 5), sharey=True)\n",
    "sns.countplot(df['gender'], hue=df['group'], ax=ax[0])\n",
    "sns.countplot(df['device'], hue=df['group'], ax=ax[1])\n",
    "plt.ylim([0, 20000])\n",
    "fig.show()"
   ]
  },
  {
   "cell_type": "markdown",
   "id": "4a5bf1bc",
   "metadata": {},
   "source": [
    "# 2.0 Experiment parameters"
   ]
  },
  {
   "cell_type": "code",
   "execution_count": 11,
   "id": "2ee4ec89",
   "metadata": {},
   "outputs": [],
   "source": [
    "df1 = df.copy()"
   ]
  },
  {
   "cell_type": "code",
   "execution_count": 12,
   "id": "06c9244d",
   "metadata": {},
   "outputs": [
    {
     "data": {
      "text/plain": [
       "<AxesSubplot:xlabel='country', ylabel='spent'>"
      ]
     },
     "execution_count": 12,
     "metadata": {},
     "output_type": "execute_result"
    },
    {
     "data": {
      "image/png": "[encoded data removed]",
      "text/plain": [
       "<Figure size 1296x432 with 1 Axes>"
      ]
     },
     "metadata": {
      "needs_background": "light"
     },
     "output_type": "display_data"
    }
   ],
   "source": [
    "# As there are many countries, let's choose one of them to do the AB test\n",
    "\n",
    "figure(figsize=(18,6))\n",
    "sns.boxplot(x=df1['country'], y=df1['spent'], hue=df1['group'])"
   ]
  },
  {
   "cell_type": "code",
   "execution_count": 13,
   "id": "587431d7",
   "metadata": {},
   "outputs": [],
   "source": [
    "df2 = df1[df1['country'] == 'CAN']"
   ]
  },
  {
   "cell_type": "markdown",
   "id": "1b72c596",
   "metadata": {},
   "source": [
    "## 2.1. Sample size"
   ]
  },
  {
   "cell_type": "markdown",
   "id": "adf5b7c1",
   "metadata": {},
   "source": [
    "1. Determine the expected difference in success metrics\n",
    "2. Calculate sample size"
   ]
  },
  {
   "cell_type": "code",
   "execution_count": 14,
   "id": "f550dcce",
   "metadata": {
    "scrolled": true
   },
   "outputs": [
    {
     "name": "stdout",
     "output_type": "stream",
     "text": [
      "Average spent by group A: 1833.15\n",
      "Average spent by group B: 1908.79\n",
      "\n",
      "Expected to increase 12% in average spent\n"
     ]
    }
   ],
   "source": [
    "# Success metrics\n",
    "\n",
    "df2_a = df2[df2['group'] == 'GRP A']\n",
    "df2_b = df2[df2['group'] == 'GRP B']\n",
    "\n",
    "spent_mean_a     = df2_a['spent'].mean()\n",
    "spent_mean_b     = df2_b['spent'].mean()\n",
    "\n",
    "print(f'Average spent by group A: {spent_mean_a:.2f}')\n",
    "print(f'Average spent by group B: {spent_mean_b:.2f}')\n",
    "print('\\nExpected to increase 12% in average spent')"
   ]
  },
  {
   "cell_type": "code",
   "execution_count": 15,
   "id": "0682ac12",
   "metadata": {},
   "outputs": [],
   "source": [
    "# Sample size\n",
    "\n",
    "# 1. Effect size\n",
    "# 2. Power\n",
    "# 3. Confidence level"
   ]
  },
  {
   "cell_type": "code",
   "execution_count": 16,
   "id": "fd81a203",
   "metadata": {},
   "outputs": [
    {
     "name": "stdout",
     "output_type": "stream",
     "text": [
      "Effect size: 0.1634\n"
     ]
    }
   ],
   "source": [
    "init_metric = spent_mean_a\n",
    "end_metric = 1.12*init_metric\n",
    "std_metric = np.std(df2['spent'])\n",
    "\n",
    "effect_size = (end_metric - init_metric) / std_metric\n",
    "print(f'Effect size: {effect_size:.4f}')"
   ]
  },
  {
   "cell_type": "code",
   "execution_count": 46,
   "id": "bb59ef2c",
   "metadata": {
    "scrolled": true
   },
   "outputs": [
    {
     "name": "stdout",
     "output_type": "stream",
     "text": [
      "Sample size: 589.0\n",
      "We need a sample of 589 for group A and 589 for group B.\n"
     ]
    }
   ],
   "source": [
    "sample_size = np.round(sms.tt_ind_solve_power(effect_size=effect_size, alpha=0.05, power=0.80),0)\n",
    "print(f'Sample size: {sample_size}')\n",
    "print(f'We need a sample of {sample_size:.0f} for group A and {sample_size:.0f} for group B.')"
   ]
  },
  {
   "cell_type": "code",
   "execution_count": 18,
   "id": "79e05af7",
   "metadata": {},
   "outputs": [],
   "source": [
    "# to identify a smaller variation between Group A and B, we would need more samples"
   ]
  },
  {
   "cell_type": "code",
   "execution_count": 19,
   "id": "30a16806",
   "metadata": {
    "scrolled": true
   },
   "outputs": [
    {
     "data": {
      "text/plain": [
       "GRP B    815\n",
       "GRP A    698\n",
       "Name: group, dtype: int64"
      ]
     },
     "execution_count": 19,
     "metadata": {},
     "output_type": "execute_result"
    }
   ],
   "source": [
    "df2['group'].value_counts()"
   ]
  },
  {
   "cell_type": "markdown",
   "id": "68f45f2e",
   "metadata": {},
   "source": [
    "## 2.2 Descriptive Statistics"
   ]
  },
  {
   "cell_type": "code",
   "execution_count": 20,
   "id": "88bff121",
   "metadata": {},
   "outputs": [
    {
     "name": "stdout",
     "output_type": "stream",
     "text": [
      "Number of rows: 1513\n",
      "Number of colunms: 8\n"
     ]
    }
   ],
   "source": [
    "total_rows = df2.shape[0]\n",
    "total_columns = df2.shape[1]\n",
    "\n",
    "print(f'Number of rows: {total_rows}\\nNumber of colunms: {total_columns}')"
   ]
  },
  {
   "cell_type": "code",
   "execution_count": 21,
   "id": "17786604",
   "metadata": {},
   "outputs": [
    {
     "data": {
      "text/html": [
       "<div>\n",
       "<style scoped>\n",
       "    .dataframe tbody tr th:only-of-type {\n",
       "        vertical-align: middle;\n",
       "    }\n",
       "\n",
       "    .dataframe tbody tr th {\n",
       "        vertical-align: top;\n",
       "    }\n",
       "\n",
       "    .dataframe thead th {\n",
       "        text-align: right;\n",
       "    }\n",
       "</style>\n",
       "<table border=\"1\" class=\"dataframe\">\n",
       "  <thead>\n",
       "    <tr style=\"text-align: right;\">\n",
       "      <th></th>\n",
       "      <th>uid</th>\n",
       "      <th>group</th>\n",
       "    </tr>\n",
       "  </thead>\n",
       "  <tbody>\n",
       "  </tbody>\n",
       "</table>\n",
       "</div>"
      ],
      "text/plain": [
       "Empty DataFrame\n",
       "Columns: [uid, group]\n",
       "Index: []"
      ]
     },
     "execution_count": 21,
     "metadata": {},
     "output_type": "execute_result"
    }
   ],
   "source": [
    "# Check experimental unit (one user can not be in the other group)\n",
    "\n",
    "df2[['uid', 'group']].groupby('uid').count().reset_index().query('group > 2')"
   ]
  },
  {
   "cell_type": "code",
   "execution_count": 22,
   "id": "84aa83b1",
   "metadata": {},
   "outputs": [
    {
     "data": {
      "text/html": [
       "<div>\n",
       "<style scoped>\n",
       "    .dataframe tbody tr th:only-of-type {\n",
       "        vertical-align: middle;\n",
       "    }\n",
       "\n",
       "    .dataframe tbody tr th {\n",
       "        vertical-align: top;\n",
       "    }\n",
       "\n",
       "    .dataframe thead th {\n",
       "        text-align: right;\n",
       "    }\n",
       "</style>\n",
       "<table border=\"1\" class=\"dataframe\">\n",
       "  <thead>\n",
       "    <tr style=\"text-align: right;\">\n",
       "      <th></th>\n",
       "      <th></th>\n",
       "      <th>uid</th>\n",
       "    </tr>\n",
       "    <tr>\n",
       "      <th>group</th>\n",
       "      <th>gender</th>\n",
       "      <th></th>\n",
       "    </tr>\n",
       "  </thead>\n",
       "  <tbody>\n",
       "    <tr>\n",
       "      <th rowspan=\"2\" valign=\"top\">GRP A</th>\n",
       "      <th>F</th>\n",
       "      <td>347</td>\n",
       "    </tr>\n",
       "    <tr>\n",
       "      <th>M</th>\n",
       "      <td>351</td>\n",
       "    </tr>\n",
       "    <tr>\n",
       "      <th rowspan=\"2\" valign=\"top\">GRP B</th>\n",
       "      <th>F</th>\n",
       "      <td>402</td>\n",
       "    </tr>\n",
       "    <tr>\n",
       "      <th>M</th>\n",
       "      <td>413</td>\n",
       "    </tr>\n",
       "  </tbody>\n",
       "</table>\n",
       "</div>"
      ],
      "text/plain": [
       "              uid\n",
       "group gender     \n",
       "GRP A F       347\n",
       "      M       351\n",
       "GRP B F       402\n",
       "      M       413"
      ]
     },
     "execution_count": 22,
     "metadata": {},
     "output_type": "execute_result"
    }
   ],
   "source": [
    "# Gender homogenity\n",
    "\n",
    "df2[['gender','group','uid']].groupby(['group','gender']).count()"
   ]
  },
  {
   "cell_type": "code",
   "execution_count": 23,
   "id": "06a54a92",
   "metadata": {},
   "outputs": [
    {
     "data": {
      "text/html": [
       "<div>\n",
       "<style scoped>\n",
       "    .dataframe tbody tr th:only-of-type {\n",
       "        vertical-align: middle;\n",
       "    }\n",
       "\n",
       "    .dataframe tbody tr th {\n",
       "        vertical-align: top;\n",
       "    }\n",
       "\n",
       "    .dataframe thead th {\n",
       "        text-align: right;\n",
       "    }\n",
       "</style>\n",
       "<table border=\"1\" class=\"dataframe\">\n",
       "  <thead>\n",
       "    <tr style=\"text-align: right;\">\n",
       "      <th></th>\n",
       "      <th></th>\n",
       "      <th>uid</th>\n",
       "    </tr>\n",
       "    <tr>\n",
       "      <th>group</th>\n",
       "      <th>device</th>\n",
       "      <th></th>\n",
       "    </tr>\n",
       "  </thead>\n",
       "  <tbody>\n",
       "    <tr>\n",
       "      <th rowspan=\"2\" valign=\"top\">GRP A</th>\n",
       "      <th>A</th>\n",
       "      <td>337</td>\n",
       "    </tr>\n",
       "    <tr>\n",
       "      <th>I</th>\n",
       "      <td>361</td>\n",
       "    </tr>\n",
       "    <tr>\n",
       "      <th rowspan=\"2\" valign=\"top\">GRP B</th>\n",
       "      <th>A</th>\n",
       "      <td>443</td>\n",
       "    </tr>\n",
       "    <tr>\n",
       "      <th>I</th>\n",
       "      <td>372</td>\n",
       "    </tr>\n",
       "  </tbody>\n",
       "</table>\n",
       "</div>"
      ],
      "text/plain": [
       "              uid\n",
       "group device     \n",
       "GRP A A       337\n",
       "      I       361\n",
       "GRP B A       443\n",
       "      I       372"
      ]
     },
     "execution_count": 23,
     "metadata": {},
     "output_type": "execute_result"
    }
   ],
   "source": [
    "# Device homogenity\n",
    "df2[['device','group','uid']].groupby(['group','device']).count()"
   ]
  },
  {
   "cell_type": "code",
   "execution_count": 31,
   "id": "e647abd8",
   "metadata": {
    "scrolled": true
   },
   "outputs": [
    {
     "data": {
      "text/html": [
       "<div>\n",
       "<style scoped>\n",
       "    .dataframe tbody tr th:only-of-type {\n",
       "        vertical-align: middle;\n",
       "    }\n",
       "\n",
       "    .dataframe tbody tr th {\n",
       "        vertical-align: top;\n",
       "    }\n",
       "\n",
       "    .dataframe thead tr th {\n",
       "        text-align: left;\n",
       "    }\n",
       "\n",
       "    .dataframe thead tr:last-of-type th {\n",
       "        text-align: right;\n",
       "    }\n",
       "</style>\n",
       "<table border=\"1\" class=\"dataframe\">\n",
       "  <thead>\n",
       "    <tr>\n",
       "      <th></th>\n",
       "      <th>country</th>\n",
       "      <th colspan=\"5\" halign=\"left\">spent</th>\n",
       "    </tr>\n",
       "    <tr>\n",
       "      <th></th>\n",
       "      <th>count</th>\n",
       "      <th>min</th>\n",
       "      <th>max</th>\n",
       "      <th>mean</th>\n",
       "      <th>median</th>\n",
       "      <th>std</th>\n",
       "    </tr>\n",
       "    <tr>\n",
       "      <th>group</th>\n",
       "      <th></th>\n",
       "      <th></th>\n",
       "      <th></th>\n",
       "      <th></th>\n",
       "      <th></th>\n",
       "      <th></th>\n",
       "    </tr>\n",
       "  </thead>\n",
       "  <tbody>\n",
       "    <tr>\n",
       "      <th>GRP A</th>\n",
       "      <td>698</td>\n",
       "      <td>99</td>\n",
       "      <td>9079</td>\n",
       "      <td>1833.154728</td>\n",
       "      <td>1595.0</td>\n",
       "      <td>1357.700155</td>\n",
       "    </tr>\n",
       "    <tr>\n",
       "      <th>GRP B</th>\n",
       "      <td>815</td>\n",
       "      <td>99</td>\n",
       "      <td>7284</td>\n",
       "      <td>1908.786503</td>\n",
       "      <td>1597.0</td>\n",
       "      <td>1337.657600</td>\n",
       "    </tr>\n",
       "  </tbody>\n",
       "</table>\n",
       "</div>"
      ],
      "text/plain": [
       "      country spent                                        \n",
       "        count   min   max         mean  median          std\n",
       "group                                                      \n",
       "GRP A     698    99  9079  1833.154728  1595.0  1357.700155\n",
       "GRP B     815    99  7284  1908.786503  1597.0  1337.657600"
      ]
     },
     "execution_count": 31,
     "metadata": {},
     "output_type": "execute_result"
    }
   ],
   "source": [
    "df2.groupby('group').agg({'country':'count',\n",
    "                         'spent':['min','max','mean','median','std']})"
   ]
  },
  {
   "cell_type": "code",
   "execution_count": 40,
   "id": "2d015317",
   "metadata": {},
   "outputs": [
    {
     "data": {
      "text/plain": [
       "<AxesSubplot:xlabel='spent', ylabel='Count'>"
      ]
     },
     "execution_count": 40,
     "metadata": {},
     "output_type": "execute_result"
    },
    {
     "data": {
      "image/png": "[encoded data removed]",
      "text/plain": [
       "<Figure size 432x288 with 1 Axes>"
      ]
     },
     "metadata": {
      "needs_background": "light"
     },
     "output_type": "display_data"
    }
   ],
   "source": [
    "sns.histplot(df2_a['spent'], bins=20, binrange=[0, 8000])"
   ]
  },
  {
   "cell_type": "code",
   "execution_count": 41,
   "id": "6dc11209",
   "metadata": {},
   "outputs": [
    {
     "data": {
      "text/plain": [
       "<AxesSubplot:xlabel='spent', ylabel='Count'>"
      ]
     },
     "execution_count": 41,
     "metadata": {},
     "output_type": "execute_result"
    },
    {
     "data": {
      "image/png": "[encoded data removed]",
      "text/plain": [
       "<Figure size 432x288 with 1 Axes>"
      ]
     },
     "metadata": {
      "needs_background": "light"
     },
     "output_type": "display_data"
    }
   ],
   "source": [
    "sns.histplot(df2_b['spent'], bins=20, binrange=[0, 8000])"
   ]
  },
  {
   "cell_type": "markdown",
   "id": "89bf1d1d",
   "metadata": {},
   "source": [
    "# 3.0 Hypothesis tests"
   ]
  },
  {
   "cell_type": "markdown",
   "id": "5a0f302f",
   "metadata": {},
   "source": [
    "## 3.1 Groups"
   ]
  },
  {
   "cell_type": "code",
   "execution_count": 61,
   "id": "14c19894",
   "metadata": {
    "scrolled": true
   },
   "outputs": [
    {
     "name": "stdout",
     "output_type": "stream",
     "text": [
      "Average spent sample A: 1848.39\n",
      "Average spent sample B: 1926.60\n"
     ]
    }
   ],
   "source": [
    "sample_size = sample_size.astype(int)\n",
    "\n",
    "sample_A = df2_a['spent'].sample(n=sample_size, random_state=42)\n",
    "sample_B = df2_b['spent'].sample(n=sample_size, random_state=42)\n",
    "\n",
    "avg_spent_A = sample_A.mean()\n",
    "avg_spent_B = sample_B.mean()\n",
    "\n",
    "print(f'Average spent sample A: {avg_spent_A:.2f}')\n",
    "print(f'Average spent sample B: {avg_spent_B:.2f}')"
   ]
  },
  {
   "cell_type": "code",
   "execution_count": 63,
   "id": "f2e3b3af",
   "metadata": {},
   "outputs": [
    {
     "name": "stdout",
     "output_type": "stream",
     "text": [
      "Std spent sample A: 1353.96\n",
      "Std spent sample B: 1379.36\n"
     ]
    }
   ],
   "source": [
    "std_spent_A = sample_A.std()\n",
    "std_spent_B = sample_B.std()\n",
    "\n",
    "print(f'Std spent sample A: {std_spent_A:.2f}')\n",
    "print(f'Std spent sample B: {std_spent_B:.2f}')"
   ]
  },
  {
   "cell_type": "markdown",
   "id": "dcf03bec",
   "metadata": {},
   "source": [
    "## 3.2 Statistical inference"
   ]
  },
  {
   "cell_type": "code",
   "execution_count": 25,
   "id": "ddefae18",
   "metadata": {},
   "outputs": [],
   "source": [
    "# Continuous data\n",
    "# Difference between averages\n",
    "# Two groups\n",
    "# Parametric assumption satisfied?\n",
    "    # Yes: two-sample t-test\n",
    "    # No: mann-whitney U"
   ]
  },
  {
   "cell_type": "markdown",
   "id": "144d2275",
   "metadata": {},
   "source": [
    "### 3.2.1. t-test"
   ]
  },
  {
   "cell_type": "code",
   "execution_count": 70,
   "id": "b6b28aa3",
   "metadata": {},
   "outputs": [],
   "source": [
    "# Through the histograms we saw that the variable spent is not a normal distribution but let's apply ttest to see how it works"
   ]
  },
  {
   "cell_type": "code",
   "execution_count": 65,
   "id": "4b61a630",
   "metadata": {},
   "outputs": [
    {
     "name": "stdout",
     "output_type": "stream",
     "text": [
      "p-value: 0.3262\n"
     ]
    }
   ],
   "source": [
    "t_test, pvalue = stats.ttest_ind(sample_A, sample_B)\n",
    "print(f'p-value: {pvalue:.4f}')"
   ]
  },
  {
   "cell_type": "code",
   "execution_count": 71,
   "id": "0cd8a728",
   "metadata": {},
   "outputs": [],
   "source": [
    "# H0: same averages\n",
    "# if pvalue < 0.05:\n",
    "   # H0 rejected\n",
    "# else:\n",
    "   # Failed in reject null hypothesis\n",
    "    \n",
    "# Conclusion: failed in reject null hypothesis\n",
    "    # We can not affirm that the average between Group A and B are different"
   ]
  },
  {
   "cell_type": "markdown",
   "id": "e0d49961",
   "metadata": {},
   "source": [
    "### 3.2.2. Mann-whitney U"
   ]
  },
  {
   "cell_type": "code",
   "execution_count": 66,
   "id": "0cd27ba9",
   "metadata": {},
   "outputs": [],
   "source": [
    "# Parametric assumptions\n",
    "\n",
    "# 1. Independent samples\n",
    "# 2. Normal distribution\n",
    "# 3. Equal variance"
   ]
  },
  {
   "cell_type": "code",
   "execution_count": 74,
   "id": "b66523b7",
   "metadata": {},
   "outputs": [
    {
     "name": "stdout",
     "output_type": "stream",
     "text": [
      "The variable is NOT normally distributed\n",
      "\n",
      "p-value: 1.9761523292690557e-29\n"
     ]
    }
   ],
   "source": [
    "# 2. Normal distribution\n",
    "\n",
    "# Shapiro test to check if it is a normal distribution\n",
    "    # H0: normal distribuition\n",
    "    # if pvalue < alpha: (alpha = 0.05)\n",
    "        # Reject H0\n",
    "\n",
    "alpha = 0.05\n",
    "\n",
    "stats, pvalue = shapiro(df2['spent'])\n",
    "\n",
    "if pvalue < alpha:\n",
    "    print('The variable is NOT normally distributed')\n",
    "else:\n",
    "    print(f'The variable is NOT normally distributed')\n",
    "    \n",
    "print(f'\\np-value: {pvalue}')"
   ]
  },
  {
   "cell_type": "code",
   "execution_count": 69,
   "id": "7178854f",
   "metadata": {
    "scrolled": true
   },
   "outputs": [
    {
     "name": "stdout",
     "output_type": "stream",
     "text": [
      "Equal variance\n",
      "\n",
      "Variance rate of spent: 1.030\n"
     ]
    }
   ],
   "source": [
    "# 3. Equal variance\n",
    "\n",
    "spent_var_a     = df2_a['spent'].var()\n",
    "spent_var_b     = df2_b['spent'].var()\n",
    "\n",
    "ratio_spent     = max(spent_var_a, spent_var_b)/min(spent_var_a, spent_var_b)\n",
    "\n",
    "if ratio_spent < 4:\n",
    "    print('Equal variance')\n",
    "else:\n",
    "    print('Not equal variance')\n",
    "    \n",
    "print(f'\\nVariance rate of spent: {ratio_spent:.3f}')"
   ]
  },
  {
   "cell_type": "code",
   "execution_count": 73,
   "id": "06e746aa",
   "metadata": {},
   "outputs": [
    {
     "name": "stdout",
     "output_type": "stream",
     "text": [
      "p-value purchases: 0.395\n"
     ]
    }
   ],
   "source": [
    "# Mann-Whitney U-test\n",
    "\n",
    "stats, pvalue_spent = mannwhitneyu(sample_A, sample_B)\n",
    "\n",
    "#H0: average spent A = average spent B\n",
    "# if p-value < alpha:\n",
    "    # Reject H0\n",
    "    \n",
    "print(f'p-value: {pvalue_spent:.3f}')"
   ]
  },
  {
   "cell_type": "code",
   "execution_count": 75,
   "id": "394c5f12",
   "metadata": {},
   "outputs": [],
   "source": [
    "# H0: same averages\n",
    "# if pvalue < 0.05:\n",
    "   # H0 rejected\n",
    "# else:\n",
    "   # Failed in reject null hypothesis\n",
    "    \n",
    "# Conclusion: failed in reject null hypothesis\n",
    "    # We can not affirm that the average between Group A and B are different"
   ]
  },
  {
   "cell_type": "markdown",
   "id": "20186e38",
   "metadata": {},
   "source": [
    "# 4.0 Conclusion"
   ]
  },
  {
   "cell_type": "markdown",
   "id": "8de1e0ce",
   "metadata": {},
   "source": [
    "We can not affirm that the average between Group A and B are different"
   ]
  }
 ],
 "metadata": {
  "kernelspec": {
   "display_name": "Python 3 (ipykernel)",
   "language": "python",
   "name": "python3"
  },
  "language_info": {
   "codemirror_mode": {
    "name": "ipython",
    "version": 3
   },
   "file_extension": ".py",
   "mimetype": "text/x-python",
   "name": "python",
   "nbconvert_exporter": "python",
   "pygments_lexer": "ipython3",
   "version": "3.9.12"
  }
 },
 "nbformat": 4,
 "nbformat_minor": 5
}
