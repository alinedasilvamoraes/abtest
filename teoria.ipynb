{
 "cells": [
  {
   "cell_type": "markdown",
   "id": "5b65d4a4",
   "metadata": {},
   "source": [
    "# 0.0 Imports"
   ]
  },
  {
   "cell_type": "code",
   "execution_count": 8,
   "id": "f9764067",
   "metadata": {},
   "outputs": [],
   "source": [
    "import pandas as pd\n",
    "import numpy  as np\n",
    "\n",
    "\n",
    "from scipy                       import stats\n",
    "from scipy.stats                 import shapiro, ttest_1samp, mannwhitneyu, f_oneway\n",
    "from statsmodels.stats           import api as sms\n",
    "from statsmodels.stats.multicomp import pairwise_tukeyhsd"
   ]
  },
  {
   "cell_type": "markdown",
   "id": "84b1bdcf",
   "metadata": {},
   "source": [
    "# 1.0 Parâmetros do Experimento"
   ]
  },
  {
   "cell_type": "code",
   "execution_count": 4,
   "id": "a41355cd",
   "metadata": {},
   "outputs": [],
   "source": [
    "# Funciona para distribuições normais\n",
    "\n",
    "# Nível de confiança\n",
    "confidence_level = 0.95\n",
    "\n",
    "# Nível de significância\n",
    "significance_level = 1 - confidence_level\n",
    "\n",
    "# Conversões da pág atual e da nova pág\n",
    "p1 = 0.13 # atual\n",
    "p2 = 0.15 # esperado\n",
    "\n",
    "# Tamanho do efeito\n",
    "effect_size = sms.proportion_effectsize(p1, p2) \n",
    "\n",
    "# Poder estatístico\n",
    "power = 0.80"
   ]
  },
  {
   "cell_type": "code",
   "execution_count": 5,
   "id": "4e9769d2",
   "metadata": {},
   "outputs": [],
   "source": [
    "# Sample size\n",
    "sample_n = sms.NormalIndPower().solve_power(\n",
    "                effect_size,\n",
    "                power=power,\n",
    "                alpha=significance_level\n",
    ")"
   ]
  },
  {
   "cell_type": "code",
   "execution_count": 6,
   "id": "b3e5ebc9",
   "metadata": {},
   "outputs": [
    {
     "data": {
      "text/plain": [
       "4719"
      ]
     },
     "execution_count": 6,
     "metadata": {},
     "output_type": "execute_result"
    }
   ],
   "source": [
    "sample_n = np.round(sample_n, 0).astype(int)\n",
    "sample_n"
   ]
  },
  {
   "cell_type": "code",
   "execution_count": 7,
   "id": "a47dfa10",
   "metadata": {},
   "outputs": [
    {
     "name": "stdout",
     "output_type": "stream",
     "text": [
      "O tamamanho total da amostra é 9438\n",
      "O tamamanho da amostra do grupo controle é de 4719\n",
      "O tamamanho da amostra do grupo de tratamento é de 4719\n"
     ]
    }
   ],
   "source": [
    "print(f'O tamamanho total da amostra é {2*sample_n}')\n",
    "print(f'O tamamanho da amostra do grupo controle é de {sample_n}')\n",
    "print(f'O tamamanho da amostra do grupo de tratamento é de {sample_n}')"
   ]
  },
  {
   "cell_type": "markdown",
   "id": "89bf1d1d",
   "metadata": {},
   "source": [
    "# 2.0 Testes Estatísticos"
   ]
  },
  {
   "cell_type": "markdown",
   "id": "a1cb7709",
   "metadata": {},
   "source": [
    "## 2.1 One sample test"
   ]
  },
  {
   "cell_type": "code",
   "execution_count": 9,
   "id": "97614ef3",
   "metadata": {},
   "outputs": [
    {
     "name": "stdout",
     "output_type": "stream",
     "text": [
      "p-value: 0.12014460742498101\n"
     ]
    }
   ],
   "source": [
    "# One Sample t-test\n",
    "\n",
    "grupo = [14, 14, 16, 13, 12, 17, 15, 14, 15, 13, 15, 14]\n",
    "\n",
    "# H0: media = 15\n",
    "# H1: media != 15\n",
    "\n",
    "statstic, pvalue = ttest_1samp(grupo, popmean=15)\n",
    "print(f'p-value: {pvalue}')"
   ]
  },
  {
   "cell_type": "code",
   "execution_count": 10,
   "id": "b4330487",
   "metadata": {},
   "outputs": [],
   "source": [
    "# p-value < alpha: Rejeita H0, aceita H1\n",
    "# p-value > alpha: Falha em rejeitar H0 \n",
    "    # não existe evidência suficiente para rejeitar H0"
   ]
  },
  {
   "cell_type": "markdown",
   "id": "dc5a86d3",
   "metadata": {},
   "source": [
    "## 2.2 Two sample t-test (Condições paramétricas satisfeitas)"
   ]
  },
  {
   "cell_type": "code",
   "execution_count": 12,
   "id": "8d9408a9",
   "metadata": {},
   "outputs": [],
   "source": [
    "df1 = [14, 14, 16, 13, 12, 17, 15, 14, 15, 13, 15, 14, 14, 14, 16, 13, 12, 17, 15, 14, 15, 13, 15, 14]\n",
    "df2 = [12, 17, 15, 14, 12, 17, 15, 14, 13, 13, 16, 15, 15, 13, 15, 14, 14, 13, 13, 16, 15, 15, 12, 15]"
   ]
  },
  {
   "cell_type": "code",
   "execution_count": 13,
   "id": "8a4810e8",
   "metadata": {},
   "outputs": [
    {
     "data": {
      "text/plain": [
       "14.33"
      ]
     },
     "execution_count": 13,
     "metadata": {},
     "output_type": "execute_result"
    }
   ],
   "source": [
    "np.mean(df1).round(2)"
   ]
  },
  {
   "cell_type": "code",
   "execution_count": 14,
   "id": "21e1e60f",
   "metadata": {},
   "outputs": [
    {
     "data": {
      "text/plain": [
       "14.29"
      ]
     },
     "execution_count": 14,
     "metadata": {},
     "output_type": "execute_result"
    }
   ],
   "source": [
    "np.mean(df2).round(2)"
   ]
  },
  {
   "cell_type": "code",
   "execution_count": 15,
   "id": "d244e041",
   "metadata": {},
   "outputs": [],
   "source": [
    "# Shapiro\n",
    "# H0: distribuição normal\n",
    "\n",
    "# p-value < alpha: Rejeita H0, aceita H1\n",
    "# p-value > alpha: Falha em rejeitar H0 "
   ]
  },
  {
   "cell_type": "code",
   "execution_count": 16,
   "id": "98727c66",
   "metadata": {},
   "outputs": [
    {
     "name": "stdout",
     "output_type": "stream",
     "text": [
      "p-value1: 0.15192988514900208\n",
      "p-value2: 0.1016923263669014\n"
     ]
    }
   ],
   "source": [
    "stats1, pvalue1 = shapiro(df1)\n",
    "print(f'p-value1: {pvalue1}')\n",
    "\n",
    "stats2, pvalue2 = shapiro(df2)\n",
    "print(f'p-value2: {pvalue2}')"
   ]
  },
  {
   "cell_type": "code",
   "execution_count": 17,
   "id": "d2ecde55",
   "metadata": {},
   "outputs": [],
   "source": [
    "# H0: u1 = u2        # a altura das plantas é igual\n",
    "# H1: u1 <> u2       # não tenho evidência suficiente pra falar que o adubo foi o responsável pelas médias estarem diferentes\n",
    "\n",
    "# p-value < alpha: Rejeita H0"
   ]
  },
  {
   "cell_type": "code",
   "execution_count": 18,
   "id": "680f150d",
   "metadata": {
    "scrolled": true
   },
   "outputs": [
    {
     "data": {
      "text/plain": [
       "0.9183924978713519"
      ]
     },
     "execution_count": 18,
     "metadata": {},
     "output_type": "execute_result"
    }
   ],
   "source": [
    "stats, pvalue = stats.ttest_ind(df1, df2, equal_var=True)\n",
    "pvalue"
   ]
  },
  {
   "cell_type": "markdown",
   "id": "623c56bf",
   "metadata": {},
   "source": [
    "## 2.3 Mann-Whitney U-test (Condições paramétricas não satisfeitas)"
   ]
  },
  {
   "cell_type": "code",
   "execution_count": 19,
   "id": "5af5384c",
   "metadata": {},
   "outputs": [],
   "source": [
    "df1 = [20, 23, 21, 20, 18, 17, 18, 14, 60, 24, 48, 19]\n",
    "df2 = [24, 25, 21, 22, 23, 18, 17, 28, 24, 27, 21, 23]"
   ]
  },
  {
   "cell_type": "code",
   "execution_count": 20,
   "id": "baf427bf",
   "metadata": {},
   "outputs": [
    {
     "data": {
      "text/plain": [
       "25.166666666666668"
      ]
     },
     "execution_count": 20,
     "metadata": {},
     "output_type": "execute_result"
    }
   ],
   "source": [
    "np.mean(df1)"
   ]
  },
  {
   "cell_type": "code",
   "execution_count": 21,
   "id": "fd03643d",
   "metadata": {},
   "outputs": [
    {
     "data": {
      "text/plain": [
       "22.75"
      ]
     },
     "execution_count": 21,
     "metadata": {},
     "output_type": "execute_result"
    }
   ],
   "source": [
    "np.mean(df2)"
   ]
  },
  {
   "cell_type": "code",
   "execution_count": 22,
   "id": "a570d4c4",
   "metadata": {},
   "outputs": [],
   "source": [
    "# H0: u1 = u2        # a altura das plantas é igual\n",
    "# H1: u1 <> u2       # não tenho evidência suficiente pra falar que o adubo foi o responsável pelas médias estarem diferentes"
   ]
  },
  {
   "cell_type": "code",
   "execution_count": 23,
   "id": "b7fe6467",
   "metadata": {
    "scrolled": false
   },
   "outputs": [],
   "source": [
    "# Condições paramétricas:\n",
    "\n",
    "# 1. Amostras independentes\n",
    "# 2. Normalmente distribuídos\n",
    "    # Shapiro\n",
    "        # H0: normalmente distribuídos\n",
    "        # H1: não normal\n",
    "        \n",
    "        # if p-value < alpha:\n",
    "            # Rejeito H0\n",
    "            # pvalue = 0.0001 então não é normal\n",
    "        # else:\n",
    "            # Falha em rejeitar H0\n",
    "            # pvalue = 0.25 é normal"
   ]
  },
  {
   "cell_type": "code",
   "execution_count": 24,
   "id": "75620b8b",
   "metadata": {},
   "outputs": [
    {
     "name": "stdout",
     "output_type": "stream",
     "text": [
      "p-value1: 0.00043336229282431304\n",
      "p-value2: 0.9021502137184143\n",
      "var1: 178.64\n",
      "var2: 9.69\n",
      "var1/var2: 18.44\n"
     ]
    }
   ],
   "source": [
    "stats1, pvalue1 = shapiro(df1)\n",
    "print(f'p-value1: {pvalue1}')\n",
    "\n",
    "stats2, pvalue2 = shapiro(df2)\n",
    "print(f'p-value2: {pvalue2}')\n",
    "        \n",
    "# 3. Variâncias iguais\n",
    "    # v1 / v2 < 4 então OK\n",
    "    \n",
    "var1 = np.var(df1).round(2)\n",
    "var2 = np.var(df2).round(2)\n",
    "print(f'var1: {var1}\\nvar2: {var2}\\nvar1/var2: {(var1/var2).round(2)}')"
   ]
  },
  {
   "cell_type": "code",
   "execution_count": 25,
   "id": "0d14dd22",
   "metadata": {},
   "outputs": [
    {
     "name": "stdout",
     "output_type": "stream",
     "text": [
      "p-value: 0.22352512203904684\n"
     ]
    }
   ],
   "source": [
    "stats, pvalue = mannwhitneyu(df1, df2)\n",
    "print(f'p-value: {pvalue}')"
   ]
  },
  {
   "cell_type": "code",
   "execution_count": 26,
   "id": "3a9e7d44",
   "metadata": {},
   "outputs": [],
   "source": [
    "# H0: u1 = u2        # a altura das plantas é igual\n",
    "# H1: u1 <> u2       # não tenho evidência suficiente pra falar que o adubo foi o responsável pelas médias estarem diferentes\n",
    "\n",
    "# p-value < alpha:\n",
    "    # Rejeito H0"
   ]
  },
  {
   "cell_type": "markdown",
   "id": "57e77ce8",
   "metadata": {},
   "source": [
    "## 2.4 ANOVA (mais que 2 grupos)"
   ]
  },
  {
   "cell_type": "code",
   "execution_count": 27,
   "id": "5fd70841",
   "metadata": {},
   "outputs": [],
   "source": [
    "df = pd.DataFrame({'A': [25, 30, 28, 36, 29],\n",
    "                  'B': [45, 55, 29, 56, 40],\n",
    "                  'C': [30, 29, 33, 37, 27],\n",
    "                  'D': [54, 60, 51, 62, 73]})"
   ]
  },
  {
   "cell_type": "code",
   "execution_count": 28,
   "id": "63e65ddc",
   "metadata": {},
   "outputs": [
    {
     "data": {
      "text/html": [
       "<div>\n",
       "<style scoped>\n",
       "    .dataframe tbody tr th:only-of-type {\n",
       "        vertical-align: middle;\n",
       "    }\n",
       "\n",
       "    .dataframe tbody tr th {\n",
       "        vertical-align: top;\n",
       "    }\n",
       "\n",
       "    .dataframe thead th {\n",
       "        text-align: right;\n",
       "    }\n",
       "</style>\n",
       "<table border=\"1\" class=\"dataframe\">\n",
       "  <thead>\n",
       "    <tr style=\"text-align: right;\">\n",
       "      <th></th>\n",
       "      <th>index</th>\n",
       "      <th>treatment</th>\n",
       "      <th>value</th>\n",
       "    </tr>\n",
       "  </thead>\n",
       "  <tbody>\n",
       "    <tr>\n",
       "      <th>0</th>\n",
       "      <td>0</td>\n",
       "      <td>A</td>\n",
       "      <td>25</td>\n",
       "    </tr>\n",
       "    <tr>\n",
       "      <th>1</th>\n",
       "      <td>1</td>\n",
       "      <td>A</td>\n",
       "      <td>30</td>\n",
       "    </tr>\n",
       "    <tr>\n",
       "      <th>2</th>\n",
       "      <td>2</td>\n",
       "      <td>A</td>\n",
       "      <td>28</td>\n",
       "    </tr>\n",
       "    <tr>\n",
       "      <th>3</th>\n",
       "      <td>3</td>\n",
       "      <td>A</td>\n",
       "      <td>36</td>\n",
       "    </tr>\n",
       "    <tr>\n",
       "      <th>4</th>\n",
       "      <td>4</td>\n",
       "      <td>A</td>\n",
       "      <td>29</td>\n",
       "    </tr>\n",
       "    <tr>\n",
       "      <th>5</th>\n",
       "      <td>0</td>\n",
       "      <td>B</td>\n",
       "      <td>45</td>\n",
       "    </tr>\n",
       "    <tr>\n",
       "      <th>6</th>\n",
       "      <td>1</td>\n",
       "      <td>B</td>\n",
       "      <td>55</td>\n",
       "    </tr>\n",
       "    <tr>\n",
       "      <th>7</th>\n",
       "      <td>2</td>\n",
       "      <td>B</td>\n",
       "      <td>29</td>\n",
       "    </tr>\n",
       "    <tr>\n",
       "      <th>8</th>\n",
       "      <td>3</td>\n",
       "      <td>B</td>\n",
       "      <td>56</td>\n",
       "    </tr>\n",
       "    <tr>\n",
       "      <th>9</th>\n",
       "      <td>4</td>\n",
       "      <td>B</td>\n",
       "      <td>40</td>\n",
       "    </tr>\n",
       "  </tbody>\n",
       "</table>\n",
       "</div>"
      ],
      "text/plain": [
       "   index treatment  value\n",
       "0      0         A     25\n",
       "1      1         A     30\n",
       "2      2         A     28\n",
       "3      3         A     36\n",
       "4      4         A     29\n",
       "5      0         B     45\n",
       "6      1         B     55\n",
       "7      2         B     29\n",
       "8      3         B     56\n",
       "9      4         B     40"
      ]
     },
     "execution_count": 28,
     "metadata": {},
     "output_type": "execute_result"
    }
   ],
   "source": [
    "df_melt = pd.melt(df.reset_index(), id_vars=['index'], value_vars=['A','B','C','D'])\n",
    "df_melt.columns = ['index','treatment','value']\n",
    "df_melt.head(10)"
   ]
  },
  {
   "cell_type": "code",
   "execution_count": 31,
   "id": "78cfdbbc",
   "metadata": {},
   "outputs": [],
   "source": [
    "statsA, pvalueA = shapiro(df_melt['value'][df_melt['treatment'] == 'A'])\n",
    "pvalueA = np.round(pvalueA, 2)\n",
    "\n",
    "statsB, pvalueB = shapiro(df_melt['value'][df_melt['treatment'] == 'B'])\n",
    "pvalueB = np.round(pvalueB, 2)\n",
    "\n",
    "statsC, pvalueC = shapiro(df_melt['value'][df_melt['treatment'] == 'C'])\n",
    "pvalueC = np.round(pvalueC, 2)\n",
    "\n",
    "statsD, pvalueD = shapiro(df_melt['value'][df_melt['treatment'] == 'D'])\n",
    "pvalueD = np.round(pvalueD, 2)"
   ]
  },
  {
   "cell_type": "code",
   "execution_count": 32,
   "id": "4dcd65d1",
   "metadata": {},
   "outputs": [
    {
     "name": "stdout",
     "output_type": "stream",
     "text": [
      "pvalue - Grupo A: 0.61\n",
      "pvalue - Grupo B: 0.57\n",
      "pvalue - Grupo C: 0.76\n",
      "pvalue - Grupo D: 0.7\n"
     ]
    }
   ],
   "source": [
    "# Shapiro\n",
    "    # H0: distribuídos normalmente\n",
    "    # if p-value < alpha:\n",
    "        # Rejeita H0\n",
    "\n",
    "print(f'pvalue - Grupo A: {pvalueA}')\n",
    "print(f'pvalue - Grupo B: {pvalueB}')\n",
    "print(f'pvalue - Grupo C: {pvalueC}')\n",
    "print(f'pvalue - Grupo D: {pvalueD}')\n",
    "\n",
    "# Como p-value > 0.05 então as distribuições são normais"
   ]
  },
  {
   "cell_type": "code",
   "execution_count": 33,
   "id": "adf290b3",
   "metadata": {},
   "outputs": [],
   "source": [
    "a = df['A']\n",
    "b = df['B']\n",
    "c = df['C']\n",
    "d = df['D']"
   ]
  },
  {
   "cell_type": "code",
   "execution_count": 34,
   "id": "0f920ed3",
   "metadata": {},
   "outputs": [
    {
     "name": "stdout",
     "output_type": "stream",
     "text": [
      "var - Grupo A: 13.04\n",
      "var - Grupo B: 100.4\n",
      "var - Grupo C: 12.16\n",
      "var - Grupo D: 58.0\n"
     ]
    }
   ],
   "source": [
    "print(f'var - Grupo A: {np.var(a).round(2)}')\n",
    "print(f'var - Grupo B: {np.var(b)}')\n",
    "print(f'var - Grupo C: {np.var(c)}')\n",
    "print(f'var - Grupo D: {np.var(d)}')"
   ]
  },
  {
   "cell_type": "code",
   "execution_count": 35,
   "id": "68cb700a",
   "metadata": {},
   "outputs": [
    {
     "data": {
      "text/plain": [
       "2.639241146210922e-05"
      ]
     },
     "execution_count": 35,
     "metadata": {},
     "output_type": "execute_result"
    }
   ],
   "source": [
    "stats, pvalue = f_oneway(df['A'], df['B'], df['C'], df['D'])\n",
    "pvalue"
   ]
  },
  {
   "cell_type": "code",
   "execution_count": 36,
   "id": "2e2d1c39",
   "metadata": {},
   "outputs": [],
   "source": [
    "# H0: não há diferença entre os grupo\n",
    "\n",
    "# if pvalue < alpha: rejeita H0               \n",
    "    # ou seja, há diferença entre os grupos"
   ]
  },
  {
   "cell_type": "markdown",
   "id": "51a6e806",
   "metadata": {},
   "source": [
    "## 2.5 Pairwise Tukey (mais que 2 grupos)"
   ]
  },
  {
   "cell_type": "code",
   "execution_count": 37,
   "id": "ae0949fa",
   "metadata": {},
   "outputs": [
    {
     "name": "stdout",
     "output_type": "stream",
     "text": [
      "Multiple Comparison of Means - Tukey HSD, FWER=0.05\n",
      "===================================================\n",
      "group1 group2 meandiff p-adj   lower  upper  reject\n",
      "---------------------------------------------------\n",
      "     A      B     15.4 0.0251   1.694 29.106   True\n",
      "     A      C      1.6 0.9867 -12.106 15.306  False\n",
      "     A      D     30.4 0.0001  16.694 44.106   True\n",
      "     B      C    -13.8 0.0482 -27.506 -0.094   True\n",
      "     B      D     15.0 0.0296   1.294 28.706   True\n",
      "     C      D     28.8 0.0001  15.094 42.506   True\n",
      "---------------------------------------------------\n"
     ]
    }
   ],
   "source": [
    "tukey = pairwise_tukeyhsd(endog=df_melt['value'],\n",
    "                         groups=df_melt['treatment'],\n",
    "                         alpha=0.05)\n",
    "print(tukey)"
   ]
  },
  {
   "cell_type": "markdown",
   "id": "6d6a8e2a",
   "metadata": {},
   "source": [
    "## 2.6 Chi-square"
   ]
  },
  {
   "cell_type": "code",
   "execution_count": 81,
   "id": "f59b3303",
   "metadata": {},
   "outputs": [],
   "source": [
    "from scipy.stats import chi2_contingency\n",
    "#chi_val, pval, dof, expected = chi2_contingency(df)"
   ]
  }
 ],
 "metadata": {
  "kernelspec": {
   "display_name": "Python 3 (ipykernel)",
   "language": "python",
   "name": "python3"
  },
  "language_info": {
   "codemirror_mode": {
    "name": "ipython",
    "version": 3
   },
   "file_extension": ".py",
   "mimetype": "text/x-python",
   "name": "python",
   "nbconvert_exporter": "python",
   "pygments_lexer": "ipython3",
   "version": "3.9.12"
  }
 },
 "nbformat": 4,
 "nbformat_minor": 5
}
